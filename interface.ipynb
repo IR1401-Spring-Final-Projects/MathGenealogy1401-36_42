{
 "cells": [
  {
   "cell_type": "code",
   "execution_count": 1,
   "id": "94d1ae4f",
   "metadata": {},
   "outputs": [
    {
     "name": "stderr",
     "output_type": "stream",
     "text": [
      "Warning : `load_model` does not return WordVectorModel or SupervisedModel any more, but a `FastText` object which is very similar.\n"
     ]
    }
   ],
   "source": [
    "from interface.interface import *"
   ]
  },
  {
   "cell_type": "markdown",
   "id": "ef82ff5b",
   "metadata": {},
   "source": [
    "# Classifier"
   ]
  },
  {
   "cell_type": "code",
   "execution_count": 2,
   "id": "60dbd667",
   "metadata": {},
   "outputs": [
    {
     "data": {
      "application/vnd.jupyter.widget-view+json": {
       "model_id": "69c5404d938849f4bad654a561a51d33",
       "version_major": 2,
       "version_minor": 0
      },
      "text/plain": [
       "VBox(children=(HBox(children=(Text(value='', description='Query'), Button(description='Classify', style=Button…"
      ]
     },
     "metadata": {},
     "output_type": "display_data"
    }
   ],
   "source": [
    "classifier_page"
   ]
  },
  {
   "cell_type": "markdown",
   "id": "5e6962ae",
   "metadata": {},
   "source": [
    "# Clusterer"
   ]
  },
  {
   "cell_type": "code",
   "execution_count": 4,
   "id": "00de206f",
   "metadata": {},
   "outputs": [
    {
     "data": {
      "application/vnd.jupyter.widget-view+json": {
       "model_id": "77d2aef7eac94d9fbd384ea18303adbe",
       "version_major": 2,
       "version_minor": 0
      },
      "text/plain": [
       "VBox(children=(HTML(value='<a href=topic.html target=\"_blank\"> Show Topic Plot </a>'), HBox(children=(IntText(…"
      ]
     },
     "metadata": {},
     "output_type": "display_data"
    }
   ],
   "source": [
    "cluster_page"
   ]
  },
  {
   "cell_type": "markdown",
   "id": "7e2f12ae",
   "metadata": {},
   "source": [
    "# Query Suggestion"
   ]
  },
  {
   "cell_type": "code",
   "execution_count": 3,
   "id": "7a2835e6",
   "metadata": {},
   "outputs": [
    {
     "data": {
      "application/vnd.jupyter.widget-view+json": {
       "model_id": "0522198f5cb94d6a94ddef1666f3f3b1",
       "version_major": 2,
       "version_minor": 0
      },
      "text/plain": [
       "VBox(children=(HBox(children=(Text(value='', description='Query'), Button(description='Search', style=ButtonSt…"
      ]
     },
     "metadata": {},
     "output_type": "display_data"
    }
   ],
   "source": [
    "qx_page"
   ]
  },
  {
   "cell_type": "markdown",
   "id": "94b9d9e5",
   "metadata": {},
   "source": [
    "# Query Expansion (Rochhio)"
   ]
  },
  {
   "cell_type": "code",
   "execution_count": 2,
   "id": "2b0a8de0",
   "metadata": {},
   "outputs": [
    {
     "data": {
      "application/vnd.jupyter.widget-view+json": {
       "model_id": "2209050d0c14441aaa9ca7b815850ad7",
       "version_major": 2,
       "version_minor": 0
      },
      "text/plain": [
       "VBox(children=(HBox(children=(Text(value='', description='Query'), Button(description='Search', style=ButtonSt…"
      ]
     },
     "metadata": {},
     "output_type": "display_data"
    }
   ],
   "source": [
    "rochhio_page"
   ]
  },
  {
   "cell_type": "markdown",
   "id": "4b654310",
   "metadata": {},
   "source": [
    "# Elastic Search"
   ]
  },
  {
   "cell_type": "code",
   "execution_count": 2,
   "id": "eee10553",
   "metadata": {},
   "outputs": [
    {
     "data": {
      "application/vnd.jupyter.widget-view+json": {
       "model_id": "e513f620ab2143c8b2caa6f836fc4520",
       "version_major": 2,
       "version_minor": 0
      },
      "text/plain": [
       "VBox(children=(HBox(children=(Text(value='', description='Query'), Button(description='Search', style=ButtonSt…"
      ]
     },
     "metadata": {},
     "output_type": "display_data"
    }
   ],
   "source": [
    "elastic_page"
   ]
  },
  {
   "cell_type": "markdown",
   "id": "670f7ce6",
   "metadata": {},
   "source": [
    "# HW3"
   ]
  },
  {
   "cell_type": "code",
   "execution_count": 3,
   "id": "5374076d",
   "metadata": {},
   "outputs": [
    {
     "data": {
      "application/vnd.jupyter.widget-view+json": {
       "model_id": "5cad32a85edd4450ad9327987ac6c56e",
       "version_major": 2,
       "version_minor": 0
      },
      "text/plain": [
       "VBox(children=(HBox(children=(Text(value='', description='Query'), Dropdown(description='Method', options=('Bo…"
      ]
     },
     "metadata": {},
     "output_type": "display_data"
    }
   ],
   "source": [
    "hw3_page"
   ]
  },
  {
   "cell_type": "code",
   "execution_count": null,
   "id": "5bf8fb44",
   "metadata": {},
   "outputs": [],
   "source": []
  },
  {
   "cell_type": "markdown",
   "id": "6309c018",
   "metadata": {},
   "source": [
    "# Link Analysis"
   ]
  },
  {
   "cell_type": "code",
   "execution_count": 3,
   "id": "07e6eb35",
   "metadata": {},
   "outputs": [
    {
     "data": {
      "application/vnd.jupyter.widget-view+json": {
       "model_id": "ab91517f46c54233b8c6f993113d7ed8",
       "version_major": 2,
       "version_minor": 0
      },
      "text/plain": [
       "VBox(children=(HBox(children=(Text(value='', description='Sensitivity'), Button(description='Create matrix', s…"
      ]
     },
     "metadata": {},
     "output_type": "display_data"
    }
   ],
   "source": [
    "link_page"
   ]
  },
  {
   "cell_type": "code",
   "execution_count": null,
   "id": "6fe830c4",
   "metadata": {},
   "outputs": [],
   "source": []
  }
 ],
 "metadata": {
  "kernelspec": {
   "display_name": "Python 3 (ipykernel)",
   "language": "python",
   "name": "python3"
  },
  "language_info": {
   "codemirror_mode": {
    "name": "ipython",
    "version": 3
   },
   "file_extension": ".py",
   "mimetype": "text/x-python",
   "name": "python",
   "nbconvert_exporter": "python",
   "pygments_lexer": "ipython3",
   "version": "3.9.13"
  }
 },
 "nbformat": 4,
 "nbformat_minor": 5
}
