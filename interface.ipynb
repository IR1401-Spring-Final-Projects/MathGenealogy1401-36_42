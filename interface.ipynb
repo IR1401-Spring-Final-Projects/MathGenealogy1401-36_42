{
 "cells": [
  {
   "cell_type": "code",
   "execution_count": 1,
   "id": "94d1ae4f",
   "metadata": {},
   "outputs": [
    {
     "name": "stderr",
     "output_type": "stream",
     "text": [
      "Warning : `load_model` does not return WordVectorModel or SupervisedModel any more, but a `FastText` object which is very similar.\n"
     ]
    }
   ],
   "source": [
    "from interface.interface import *"
   ]
  },
  {
   "cell_type": "markdown",
   "id": "ef82ff5b",
   "metadata": {},
   "source": [
    "# Classifier"
   ]
  },
  {
   "cell_type": "code",
   "execution_count": 2,
   "id": "60dbd667",
   "metadata": {},
   "outputs": [
    {
     "data": {
      "application/vnd.jupyter.widget-view+json": {
       "model_id": "f2f1a0ddd25f457b85ad06e035954607",
       "version_major": 2,
       "version_minor": 0
      },
      "text/plain": [
       "VBox(children=(HBox(children=(Text(value='', description='Query'), Button(description='Classify', style=Button…"
      ]
     },
     "metadata": {},
     "output_type": "display_data"
    }
   ],
   "source": [
    "classifier_page"
   ]
  },
  {
   "cell_type": "markdown",
   "id": "5e6962ae",
   "metadata": {},
   "source": [
    "# Clusterer"
   ]
  },
  {
   "cell_type": "code",
   "execution_count": 3,
   "id": "00de206f",
   "metadata": {},
   "outputs": [
    {
     "data": {
      "application/vnd.jupyter.widget-view+json": {
       "model_id": "b6937550610a42358c3927cded5178a7",
       "version_major": 2,
       "version_minor": 0
      },
      "text/plain": [
       "VBox(children=(HTML(value='<a href=topic.html target=\"_blank\"> Show Topic Plot </a>'), HBox(children=(IntText(…"
      ]
     },
     "metadata": {},
     "output_type": "display_data"
    }
   ],
   "source": [
    "cluster_page"
   ]
  },
  {
   "cell_type": "markdown",
   "id": "7e2f12ae",
   "metadata": {},
   "source": [
    "# Query Suggestion"
   ]
  },
  {
   "cell_type": "code",
   "execution_count": 4,
   "id": "7a2835e6",
   "metadata": {},
   "outputs": [
    {
     "data": {
      "application/vnd.jupyter.widget-view+json": {
       "model_id": "d7d6f8547fb2411fb90b10bb5e004e13",
       "version_major": 2,
       "version_minor": 0
      },
      "text/plain": [
       "VBox(children=(HBox(children=(Text(value='', description='Query'), Button(description='Suggest', style=ButtonS…"
      ]
     },
     "metadata": {},
     "output_type": "display_data"
    }
   ],
   "source": [
    "qx_page"
   ]
  },
  {
   "cell_type": "markdown",
   "id": "94b9d9e5",
   "metadata": {},
   "source": [
    "# Query Expansion (Rochhio)"
   ]
  },
  {
   "cell_type": "code",
   "execution_count": 5,
   "id": "2b0a8de0",
   "metadata": {},
   "outputs": [
    {
     "data": {
      "application/vnd.jupyter.widget-view+json": {
       "model_id": "a43734e0e00742168bac283c84d39b32",
       "version_major": 2,
       "version_minor": 0
      },
      "text/plain": [
       "VBox(children=(HBox(children=(Text(value='', description='Query'), Button(description='Search', style=ButtonSt…"
      ]
     },
     "metadata": {},
     "output_type": "display_data"
    }
   ],
   "source": [
    "rochhio_page"
   ]
  },
  {
   "cell_type": "markdown",
   "id": "4b654310",
   "metadata": {},
   "source": [
    "# Elastic Search"
   ]
  },
  {
   "cell_type": "code",
   "execution_count": 6,
   "id": "eee10553",
   "metadata": {},
   "outputs": [
    {
     "data": {
      "application/vnd.jupyter.widget-view+json": {
       "model_id": "91ea52460b7a438288f9839c8bfb7a1e",
       "version_major": 2,
       "version_minor": 0
      },
      "text/plain": [
       "VBox(children=(HBox(children=(Text(value='', description='Query'), Button(description='Search', style=ButtonSt…"
      ]
     },
     "metadata": {},
     "output_type": "display_data"
    }
   ],
   "source": [
    "elastic_page"
   ]
  },
  {
   "cell_type": "markdown",
   "id": "670f7ce6",
   "metadata": {},
   "source": [
    "# HW3"
   ]
  },
  {
   "cell_type": "code",
   "execution_count": 7,
   "id": "5374076d",
   "metadata": {},
   "outputs": [
    {
     "data": {
      "application/vnd.jupyter.widget-view+json": {
       "model_id": "79665ddf89c6465a8fcbdfa52b70727f",
       "version_major": 2,
       "version_minor": 0
      },
      "text/plain": [
       "VBox(children=(HBox(children=(Text(value='', description='Query'), Dropdown(description='Method', options=('Bo…"
      ]
     },
     "metadata": {},
     "output_type": "display_data"
    }
   ],
   "source": [
    "hw3_page"
   ]
  },
  {
   "cell_type": "markdown",
   "id": "6309c018",
   "metadata": {},
   "source": [
    "# Link Analysis"
   ]
  },
  {
   "cell_type": "code",
   "execution_count": 8,
   "id": "07e6eb35",
   "metadata": {},
   "outputs": [
    {
     "data": {
      "application/vnd.jupyter.widget-view+json": {
       "model_id": "579d9c21709b4e289fcd769e6051ff8d",
       "version_major": 2,
       "version_minor": 0
      },
      "text/plain": [
       "VBox(children=(HBox(children=(Text(value='', description='Sensitivity'), Button(description='Create matrix', s…"
      ]
     },
     "metadata": {},
     "output_type": "display_data"
    }
   ],
   "source": [
    "link_page"
   ]
  }
 ],
 "metadata": {
  "kernelspec": {
   "display_name": "Python 3 (ipykernel)",
   "language": "python",
   "name": "python3"
  },
  "language_info": {
   "codemirror_mode": {
    "name": "ipython",
    "version": 3
   },
   "file_extension": ".py",
   "mimetype": "text/x-python",
   "name": "python",
   "nbconvert_exporter": "python",
   "pygments_lexer": "ipython3",
   "version": "3.9.13"
  }
 },
 "nbformat": 4,
 "nbformat_minor": 5
}
